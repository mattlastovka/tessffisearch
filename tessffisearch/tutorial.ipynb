{
 "cells": [
  {
   "cell_type": "code",
   "execution_count": 1,
   "id": "0369ed79-da12-41c2-84f7-23a04f1a951f",
   "metadata": {},
   "outputs": [],
   "source": [
    "import ffisearch as ff\n",
    "from transitleastsquares import catalog_info"
   ]
  },
  {
   "cell_type": "code",
   "execution_count": 2,
   "id": "efaf5172-6f5f-4093-b92d-b1e05b797a4b",
   "metadata": {},
   "outputs": [],
   "source": [
    "ticid = 165791889\n",
    "sigma_upper = 4.\n",
    "sigma_lower = 12.\n",
    "window_length=0.8\n",
    "method = 'biweight'"
   ]
  },
  {
   "cell_type": "code",
   "execution_count": 3,
   "id": "984a2ccf-1c28-4570-86d5-1eea0bdfc82d",
   "metadata": {},
   "outputs": [
    {
     "name": "stdout",
     "output_type": "stream",
     "text": [
      "9 tpfs\n",
      "... building scene model with 164 stars\n"
     ]
    },
    {
     "name": "stderr",
     "output_type": "stream",
     "text": [
      "100%|██████████████████████████████████████████████████████████████████████████████████████████████████████████████████████████████████████| 1118/1118 [00:00<00:00, 2148.35it/s]\n",
      "WARNING: The unit 'electron / s' could not be saved in native FITS format and hence will be lost to non-astropy fits readers. Within astropy, the unit can roundtrip using QTable, though one has to enable the unit before reading. [astropy.io.fits.convenience]\n"
     ]
    },
    {
     "name": "stdout",
     "output_type": "stream",
     "text": [
      "... building scene model with 164 stars\n"
     ]
    },
    {
     "name": "stderr",
     "output_type": "stream",
     "text": [
      "100%|██████████████████████████████████████████████████████████████████████████████████████████████████████████████████████████████████████| 1224/1224 [00:00<00:00, 2348.73it/s]\n",
      "WARNING: The unit 'electron / s' could not be saved in native FITS format and hence will be lost to non-astropy fits readers. Within astropy, the unit can roundtrip using QTable, though one has to enable the unit before reading. [astropy.io.fits.convenience]\n"
     ]
    },
    {
     "name": "stdout",
     "output_type": "stream",
     "text": [
      "... building scene model with 164 stars\n"
     ]
    },
    {
     "name": "stderr",
     "output_type": "stream",
     "text": [
      "100%|██████████████████████████████████████████████████████████████████████████████████████████████████████████████████████████████████████| 1235/1235 [00:00<00:00, 2330.51it/s]\n",
      "WARNING: The unit 'electron / s' could not be saved in native FITS format and hence will be lost to non-astropy fits readers. Within astropy, the unit can roundtrip using QTable, though one has to enable the unit before reading. [astropy.io.fits.convenience]\n"
     ]
    },
    {
     "name": "stdout",
     "output_type": "stream",
     "text": [
      "... building scene model with 164 stars\n"
     ]
    },
    {
     "name": "stderr",
     "output_type": "stream",
     "text": [
      "100%|██████████████████████████████████████████████████████████████████████████████████████████████████████████████████████████████████████| 1246/1246 [00:00<00:00, 2106.28it/s]\n",
      "WARNING: The unit 'electron / s' could not be saved in native FITS format and hence will be lost to non-astropy fits readers. Within astropy, the unit can roundtrip using QTable, though one has to enable the unit before reading. [astropy.io.fits.convenience]\n"
     ]
    },
    {
     "name": "stdout",
     "output_type": "stream",
     "text": [
      "... building scene model with 164 stars\n"
     ]
    },
    {
     "name": "stderr",
     "output_type": "stream",
     "text": [
      "100%|██████████████████████████████████████████████████████████████████████████████████████████████████████████████████████████████████████| 3346/3346 [00:01<00:00, 2397.34it/s]\n",
      "WARNING: The unit 'electron / s' could not be saved in native FITS format and hence will be lost to non-astropy fits readers. Within astropy, the unit can roundtrip using QTable, though one has to enable the unit before reading. [astropy.io.fits.convenience]\n"
     ]
    },
    {
     "name": "stdout",
     "output_type": "stream",
     "text": [
      "... building scene model with 164 stars\n"
     ]
    },
    {
     "name": "stderr",
     "output_type": "stream",
     "text": [
      "100%|██████████████████████████████████████████████████████████████████████████████████████████████████████████████████████████████████████| 2821/2821 [00:01<00:00, 2460.59it/s]\n",
      "WARNING: The unit 'electron / s' could not be saved in native FITS format and hence will be lost to non-astropy fits readers. Within astropy, the unit can roundtrip using QTable, though one has to enable the unit before reading. [astropy.io.fits.convenience]\n"
     ]
    },
    {
     "name": "stdout",
     "output_type": "stream",
     "text": [
      "... building scene model with 164 stars\n"
     ]
    },
    {
     "name": "stderr",
     "output_type": "stream",
     "text": [
      "100%|██████████████████████████████████████████████████████████████████████████████████████████████████████████████████████████████████████| 3549/3549 [00:01<00:00, 2308.20it/s]\n",
      "WARNING: The unit 'electron / s' could not be saved in native FITS format and hence will be lost to non-astropy fits readers. Within astropy, the unit can roundtrip using QTable, though one has to enable the unit before reading. [astropy.io.fits.convenience]\n"
     ]
    },
    {
     "name": "stdout",
     "output_type": "stream",
     "text": [
      "... building scene model with 164 stars\n"
     ]
    },
    {
     "name": "stderr",
     "output_type": "stream",
     "text": [
      "100%|██████████████████████████████████████████████████████████████████████████████████████████████████████████████████████████████████████| 9159/9159 [00:03<00:00, 2334.13it/s]\n",
      "WARNING: The unit 'electron / s' could not be saved in native FITS format and hence will be lost to non-astropy fits readers. Within astropy, the unit can roundtrip using QTable, though one has to enable the unit before reading. [astropy.io.fits.convenience]\n"
     ]
    },
    {
     "name": "stdout",
     "output_type": "stream",
     "text": [
      "... building scene model with 164 stars\n"
     ]
    },
    {
     "name": "stderr",
     "output_type": "stream",
     "text": [
      "100%|██████████████████████████████████████████████████████████████████████████████████████████████████████████████████████████████████████| 6524/6524 [00:02<00:00, 2330.96it/s]\n",
      "WARNING: The unit 'electron / s' could not be saved in native FITS format and hence will be lost to non-astropy fits readers. Within astropy, the unit can roundtrip using QTable, though one has to enable the unit before reading. [astropy.io.fits.convenience]\n"
     ]
    }
   ],
   "source": [
    "light_curves, sectors = ff.make_light_curves(ticid, lc_save_direc='./test_data/')"
   ]
  },
  {
   "cell_type": "code",
   "execution_count": 4,
   "id": "c761967f-b308-4165-be12-ed81bf8960d5",
   "metadata": {},
   "outputs": [
    {
     "name": "stdout",
     "output_type": "stream",
     "text": [
      "Use prf\n"
     ]
    }
   ],
   "source": [
    "flux_id = ff.determine_best_flux(light_curves)"
   ]
  },
  {
   "cell_type": "code",
   "execution_count": 9,
   "id": "ba76aef3-82a4-4232-aa87-67b8a7f041fc",
   "metadata": {},
   "outputs": [],
   "source": [
    "all_flat = []\n",
    "all_trend = []\n",
    "all_times = []\n",
    "for i in range(len(light_curves)):\n",
    "    time = light_curves[i]['time'].value\n",
    "    flux = light_curves[i][flux_id].value\n",
    "    times, flat, trend = ff.flatten_lightcurve(time, flux, sigma_upper, sigma_lower, window_length, method)\n",
    "    all_flat.append(flat)\n",
    "    all_trend.append(trend)\n",
    "    all_times.append(times)"
   ]
  },
  {
   "cell_type": "code",
   "execution_count": 10,
   "id": "f3c48f1b-b7b0-49e3-8a28-338f9e374239",
   "metadata": {},
   "outputs": [],
   "source": [
    "ab, mass, mass_min, mass_max, radius, radius_min, radius_max = catalog_info(TIC_ID=ticid)"
   ]
  },
  {
   "cell_type": "code",
   "execution_count": 11,
   "id": "5e337635-d72f-4ced-a9f7-7eeae08fd682",
   "metadata": {},
   "outputs": [
    {
     "name": "stdout",
     "output_type": "stream",
     "text": [
      "Transit Least Squares TLS 1.32 (5 Apr 2024)\n",
      "Creating model cache for 37 durations\n",
      "Searching 1116 data points, 2204 periods from 0.601 to 12.312 days\n",
      "Using all 16 CPU threads\n"
     ]
    },
    {
     "name": "stderr",
     "output_type": "stream",
     "text": [
      "100%|███████████████████████████████████████████████████████████████████████████████████████████████████████████████████████████████████████████| 2204/2204 periods | 00:07<00:00\n"
     ]
    },
    {
     "name": "stdout",
     "output_type": "stream",
     "text": [
      "Searching for best T0 for period 0.64897 days\n"
     ]
    },
    {
     "name": "stderr",
     "output_type": "stream",
     "text": [
      "/Users/matthewlastovka/opt/anaconda3/envs/exoplanet/lib/python3.11/site-packages/numpy/core/_methods.py:206: RuntimeWarning: Degrees of freedom <= 0 for slice\n",
      "  ret = _var(a, axis=axis, dtype=dtype, out=out, ddof=ddof,\n",
      "/Users/matthewlastovka/opt/anaconda3/envs/exoplanet/lib/python3.11/site-packages/numpy/core/_methods.py:163: RuntimeWarning: invalid value encountered in divide\n",
      "  arrmean = um.true_divide(arrmean, div, out=arrmean,\n",
      "/Users/matthewlastovka/opt/anaconda3/envs/exoplanet/lib/python3.11/site-packages/numpy/core/_methods.py:198: RuntimeWarning: invalid value encountered in scalar divide\n",
      "  ret = ret.dtype.type(ret / rcount)\n",
      "/Users/matthewlastovka/opt/anaconda3/envs/exoplanet/lib/python3.11/site-packages/transitleastsquares/main.py:411: UserWarning: 27 of 38 transits without data. The true period may be twice the given period.\n",
      "  warnings.warn(text)\n"
     ]
    },
    {
     "name": "stdout",
     "output_type": "stream",
     "text": [
      "Transit Least Squares TLS 1.32 (5 Apr 2024)\n",
      "Creating model cache for 38 durations\n",
      "Searching 1224 data points, 2398 periods from 0.601 to 13.219 days\n",
      "Using all 16 CPU threads\n"
     ]
    },
    {
     "name": "stderr",
     "output_type": "stream",
     "text": [
      "100%|███████████████████████████████████████████████████████████████████████████████████████████████████████████████████████████████████████████| 2398/2398 periods | 00:06<00:00\n"
     ]
    },
    {
     "name": "stdout",
     "output_type": "stream",
     "text": [
      "Searching for best T0 for period 0.69357 days\n"
     ]
    },
    {
     "name": "stderr",
     "output_type": "stream",
     "text": [
      "/Users/matthewlastovka/opt/anaconda3/envs/exoplanet/lib/python3.11/site-packages/transitleastsquares/main.py:411: UserWarning: 19 of 38 transits without data. The true period may be twice the given period.\n",
      "  warnings.warn(text)\n"
     ]
    },
    {
     "name": "stdout",
     "output_type": "stream",
     "text": [
      "Transit Least Squares TLS 1.32 (5 Apr 2024)\n",
      "Creating model cache for 38 durations\n",
      "Searching 1206 data points, 2414 periods from 0.601 to 13.292 days\n",
      "Using all 16 CPU threads\n"
     ]
    },
    {
     "name": "stderr",
     "output_type": "stream",
     "text": [
      "100%|███████████████████████████████████████████████████████████████████████████████████████████████████████████████████████████████████████████| 2414/2414 periods | 00:06<00:00\n"
     ]
    },
    {
     "name": "stdout",
     "output_type": "stream",
     "text": [
      "Searching for best T0 for period 8.34817 days\n",
      "Transit Least Squares TLS 1.32 (5 Apr 2024)\n",
      "Creating model cache for 38 durations\n",
      "Searching 1246 data points, 2474 periods from 0.602 to 13.573 days\n",
      "Using all 16 CPU threads\n"
     ]
    },
    {
     "name": "stderr",
     "output_type": "stream",
     "text": [
      "100%|███████████████████████████████████████████████████████████████████████████████████████████████████████████████████████████████████████████| 2474/2474 periods | 00:07<00:00\n"
     ]
    },
    {
     "name": "stdout",
     "output_type": "stream",
     "text": [
      "Searching for best T0 for period 0.84655 days\n"
     ]
    },
    {
     "name": "stderr",
     "output_type": "stream",
     "text": [
      "/Users/matthewlastovka/opt/anaconda3/envs/exoplanet/lib/python3.11/site-packages/transitleastsquares/main.py:411: UserWarning: 26 of 32 transits without data. The true period may be twice the given period.\n",
      "  warnings.warn(text)\n"
     ]
    },
    {
     "name": "stdout",
     "output_type": "stream",
     "text": [
      "Transit Least Squares TLS 1.32 (5 Apr 2024)\n",
      "Creating model cache for 38 durations\n",
      "Searching 3343 data points, 2376 periods from 0.601 to 13.114 days\n",
      "Using all 16 CPU threads\n"
     ]
    },
    {
     "name": "stderr",
     "output_type": "stream",
     "text": [
      "100%|███████████████████████████████████████████████████████████████████████████████████████████████████████████████████████████████████████████| 2376/2376 periods | 00:07<00:00\n"
     ]
    },
    {
     "name": "stdout",
     "output_type": "stream",
     "text": [
      "Searching for best T0 for period 2.99066 days\n",
      "Transit Least Squares TLS 1.32 (5 Apr 2024)\n",
      "Creating model cache for 37 durations\n",
      "Searching 2819 data points, 2199 periods from 0.601 to 12.288 days\n",
      "Using all 16 CPU threads\n"
     ]
    },
    {
     "name": "stderr",
     "output_type": "stream",
     "text": [
      "100%|███████████████████████████████████████████████████████████████████████████████████████████████████████████████████████████████████████████| 2199/2199 periods | 00:06<00:00\n"
     ]
    },
    {
     "name": "stdout",
     "output_type": "stream",
     "text": [
      "Searching for best T0 for period 1.14800 days\n",
      "Transit Least Squares TLS 1.32 (5 Apr 2024)\n",
      "Creating model cache for 38 durations\n",
      "Searching 3544 data points, 2441 periods from 0.601 to 13.417 days\n",
      "Using all 16 CPU threads\n"
     ]
    },
    {
     "name": "stderr",
     "output_type": "stream",
     "text": [
      "100%|███████████████████████████████████████████████████████████████████████████████████████████████████████████████████████████████████████████| 2441/2441 periods | 00:07<00:00\n"
     ]
    },
    {
     "name": "stdout",
     "output_type": "stream",
     "text": [
      "Searching for best T0 for period 7.22492 days\n",
      "Transit Least Squares TLS 1.32 (5 Apr 2024)\n",
      "Creating model cache for 38 durations\n",
      "Searching 9151 data points, 2467 periods from 0.601 to 13.538 days\n",
      "Using all 16 CPU threads\n"
     ]
    },
    {
     "name": "stderr",
     "output_type": "stream",
     "text": [
      "100%|███████████████████████████████████████████████████████████████████████████████████████████████████████████████████████████████████████████| 2467/2467 periods | 00:09<00:00\n"
     ]
    },
    {
     "name": "stdout",
     "output_type": "stream",
     "text": [
      "Searching for best T0 for period 7.59961 days\n"
     ]
    },
    {
     "name": "stderr",
     "output_type": "stream",
     "text": [
      "100%|██████████████████████████████████████████████████████████████████████████████████████████████████████████████████████████████████████| 9151/9151 [00:02<00:00, 3900.41it/s]\n"
     ]
    },
    {
     "name": "stdout",
     "output_type": "stream",
     "text": [
      "Transit Least Squares TLS 1.32 (5 Apr 2024)\n",
      "Creating model cache for 38 durations\n",
      "Searching 6524 data points, 2573 periods from 0.601 to 14.03 days\n",
      "Using all 16 CPU threads\n"
     ]
    },
    {
     "name": "stderr",
     "output_type": "stream",
     "text": [
      "100%|███████████████████████████████████████████████████████████████████████████████████████████████████████████████████████████████████████████| 2573/2573 periods | 00:08<00:00\n"
     ]
    },
    {
     "name": "stdout",
     "output_type": "stream",
     "text": [
      "Searching for best T0 for period 2.38506 days\n"
     ]
    },
    {
     "name": "stderr",
     "output_type": "stream",
     "text": [
      "100%|██████████████████████████████████████████████████████████████████████████████████████████████████████████████████████████████████████| 6524/6524 [00:01<00:00, 3577.31it/s]\n",
      "/Users/matthewlastovka/opt/anaconda3/envs/exoplanet/lib/python3.11/site-packages/transitleastsquares/main.py:411: UserWarning: 6 of 11 transits without data. The true period may be twice the given period.\n",
      "  warnings.warn(text)\n"
     ]
    }
   ],
   "source": [
    "all_results = []\n",
    "for i in range(len(light_curves)):\n",
    "    results = ff.search_for_transit(all_times[i], all_flat[i], ab)\n",
    "    all_results.append(results)"
   ]
  },
  {
   "cell_type": "code",
   "execution_count": 13,
   "id": "05cef07a-aeb2-4f7b-b13c-47a3cc4cd721",
   "metadata": {},
   "outputs": [
    {
     "name": "stdout",
     "output_type": "stream",
     "text": [
      "No transit found\n"
     ]
    }
   ],
   "source": [
    "flag = ff.flagging_criteria(all_results, save_direc='./')"
   ]
  },
  {
   "cell_type": "code",
   "execution_count": 14,
   "id": "a64912ac-df65-472b-81d8-4aeff925e093",
   "metadata": {},
   "outputs": [
    {
     "name": "stdout",
     "output_type": "stream",
     "text": [
      "False\n"
     ]
    }
   ],
   "source": [
    "print(flag)"
   ]
  },
  {
   "cell_type": "code",
   "execution_count": null,
   "id": "c4797a5c-a27f-43e5-96a3-daee2bf37613",
   "metadata": {},
   "outputs": [],
   "source": []
  }
 ],
 "metadata": {
  "kernelspec": {
   "display_name": "Python 3 (ipykernel)",
   "language": "python",
   "name": "python3"
  },
  "language_info": {
   "codemirror_mode": {
    "name": "ipython",
    "version": 3
   },
   "file_extension": ".py",
   "mimetype": "text/x-python",
   "name": "python",
   "nbconvert_exporter": "python",
   "pygments_lexer": "ipython3",
   "version": "3.11.7"
  }
 },
 "nbformat": 4,
 "nbformat_minor": 5
}

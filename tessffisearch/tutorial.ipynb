{
 "cells": [
  {
   "cell_type": "code",
   "execution_count": 26,
   "id": "0369ed79-da12-41c2-84f7-23a04f1a951f",
   "metadata": {},
   "outputs": [],
   "source": [
    "import ffisearch_B as ff\n",
    "import numpy as np\n",
    "import os\n",
    "import common as cmn\n",
    "from astropy.table import QTable, vstack\n",
    "import lightkurve as lk\n",
    "import re\n",
    "import pandas as pd\n",
    "from transitleastsquares import transit_mask"
   ]
  },
  {
   "cell_type": "code",
   "execution_count": 15,
   "id": "efaf5172-6f5f-4093-b92d-b1e05b797a4b",
   "metadata": {},
   "outputs": [],
   "source": [
    "ticid = 1551634257\n",
    "sigma_upper = 4.\n",
    "sigma_lower = 12.\n",
    "window_length = 0.8\n",
    "method = 'biweight'\n",
    "num_threads = 1\n",
    "\n",
    "target_list = pd.read_csv(\"targets.csv\")\n",
    "\n",
    "tic_index = np.where(target_list['ID'] == ticid)[0][0]\n",
    "\n",
    "mass = target_list['mass'][tic_index]\n",
    "radius = target_list['rad'][tic_index]  "
   ]
  },
  {
   "cell_type": "code",
   "execution_count": 16,
   "id": "9401a7a7-fdf9-4247-96ec-73357a7f21ea",
   "metadata": {},
   "outputs": [],
   "source": [
    "#using Tom's light curves\n",
    "lc_direc = cmn.tom_lc_direc + str(ticid)[:-5].zfill(5) + 'XXXXX/lc-' + str(ticid).zfill(10) + \"/\"\n",
    "dir_list = np.asarray(os.listdir(lc_direc))\n",
    "light_curves2 = []\n",
    "sectors = []\n",
    "full_2d_list = []\n",
    "for i in dir_list:\n",
    "    data = pd.read_parquet(lc_direc+i)\n",
    "    data_as = QTable.from_pandas(data)\n",
    "    data_as['time'] = data_as['time'].jd - 2457000\n",
    "    sector = re.findall('-s(.*)-', i)[0][:2]\n",
    "    light_curves2.append(data_as)\n",
    "    sectors.append(int(sector))\n",
    "    full_2d_list.append([data_as, int(sector)])"
   ]
  },
  {
   "cell_type": "code",
   "execution_count": 17,
   "id": "4592cb7d-cfaa-4956-a568-6eea49c8ebe3",
   "metadata": {},
   "outputs": [],
   "source": [
    "light_curve_direc = cmn.light_curve_direc\n",
    "save_direc = cmn.transit_search_direc"
   ]
  },
  {
   "cell_type": "code",
   "execution_count": 18,
   "id": "984a2ccf-1c28-4570-86d5-1eea0bdfc82d",
   "metadata": {},
   "outputs": [],
   "source": [
    "#using my light curves\n",
    "#dir_list = np.asarray(os.listdir(light_curve_direc))\n",
    "#get file names for the given TIC ID\n",
    "#mask = np.asarray([(str(ticid).zfill(12) in i) for i in dir_list])\n",
    "#masked_dir_list = dir_list[mask]\n",
    "#Open the light curve files and \n",
    "#light_curves2 = []\n",
    "#sectors = []\n",
    "#full_2d_list = []\n",
    "#for i in masked_dir_list:\n",
    "    #Open the light curve using astropy\n",
    "    #read_lc = QTable.read((light_curve_direc + i), format='fits', astropy_native=True)\n",
    "    #Correct the time column to TESS times (BTJD)\n",
    "    #read_lc['time'] = lk.LightCurve(read_lc).time.btjd\n",
    "    #light_curves2.append(read_lc)\n",
    "    #Determine the sector using the light curve file name\n",
    "    #sector = re.findall('sector_00(.*)_tic', i)[0]\n",
    "    #sectors.append(int(sector))\n",
    "    #full_2d_list.append([read_lc, int(sector)])"
   ]
  },
  {
   "cell_type": "code",
   "execution_count": 19,
   "id": "c761967f-b308-4165-be12-ed81bf8960d5",
   "metadata": {},
   "outputs": [],
   "source": [
    "flux_id = ff.determine_best_flux(light_curves2)"
   ]
  },
  {
   "cell_type": "code",
   "execution_count": 20,
   "id": "975b889a-dfc6-4567-9996-db387fa47b53",
   "metadata": {},
   "outputs": [],
   "source": [
    "sorted_sectors = sorted(sectors)\n",
    "consecutive_sectors = []\n",
    "sec_group = [sorted_sectors[0]]\n",
    "for i in range(1, len(sorted_sectors)):\n",
    "    if sorted_sectors[i] == (sorted_sectors[i-1] + 1):\n",
    "        sec_group.append(sorted_sectors[i])\n",
    "    else:\n",
    "        consecutive_sectors.append(sec_group)\n",
    "        sec_group = [sorted_sectors[i]]\n",
    "consecutive_sectors.append(sec_group)\n",
    "light_curves = []\n",
    "for i in consecutive_sectors:\n",
    "    #stack the light curves using astropy vstack\n",
    "    stack = vstack([full_2d_list[j][0] for j in range(len(full_2d_list)) if full_2d_list[j][1] in i])\n",
    "    #Resort the new light curve so that it is in sequential order\n",
    "    stack.sort('time')\n",
    "    light_curves.append(stack)"
   ]
  },
  {
   "cell_type": "code",
   "execution_count": 21,
   "id": "ba76aef3-82a4-4232-aa87-67b8a7f041fc",
   "metadata": {},
   "outputs": [],
   "source": [
    "all_flat = []\n",
    "all_times = []\n",
    "for i in range(len(light_curves)):\n",
    "    time = light_curves[i]['time'].value\n",
    "    flux = light_curves[i][flux_id].value\n",
    "    times, flat, trend = ff.flatten_lightcurve(time, flux, sigma_upper, sigma_lower, window_length, method)\n",
    "    all_flat.append(flat)\n",
    "    all_times.append(times)"
   ]
  },
  {
   "cell_type": "code",
   "execution_count": 22,
   "id": "5e337635-d72f-4ced-a9f7-7eeae08fd682",
   "metadata": {},
   "outputs": [],
   "source": [
    "all_results = []\n",
    "for i in range(len(light_curves)):\n",
    "    results = ff.search_for_transit(all_times[i], all_flat[i], mass=mass, radius=radius, num_threads=num_threads)\n",
    "    all_results.append(results)"
   ]
  },
  {
   "cell_type": "code",
   "execution_count": null,
   "id": "206670dc-1370-4851-910b-7dc2664893dc",
   "metadata": {},
   "outputs": [],
   "source": [
    "intransit = transit_mask(t, period, duration, T0)"
   ]
  },
  {
   "cell_type": "code",
   "execution_count": 23,
   "id": "05cef07a-aeb2-4f7b-b13c-47a3cc4cd721",
   "metadata": {},
   "outputs": [],
   "source": [
    "if 0.2*len(all_results) > 2:\n",
    "    sec_thresh1 = int(0.2*len(all_results))\n",
    "else:\n",
    "    sec_thresh1 = 2\n",
    "\n",
    "flag, sec_num = ff.flagging_criteria(all_results, sde_thresh = 7, sec_thresh=sec_thresh1, save_direc=save_direc)"
   ]
  },
  {
   "cell_type": "code",
   "execution_count": 24,
   "id": "a64912ac-df65-472b-81d8-4aeff925e093",
   "metadata": {},
   "outputs": [
    {
     "name": "stdout",
     "output_type": "stream",
     "text": [
      "False\n"
     ]
    }
   ],
   "source": [
    "print(flag)"
   ]
  },
  {
   "cell_type": "code",
   "execution_count": 25,
   "id": "82a0ace0-8d39-4138-aa1c-9d466fd662b4",
   "metadata": {},
   "outputs": [
    {
     "data": {
      "text/plain": [
       "{'SDE': 5.6430100475079525,\n",
       " 'SDE_raw': 4.9772013739043235,\n",
       " 'chi2_min': 1211.6229677882989,\n",
       " 'chi2red_min': 0.9834602011268659,\n",
       " 'period': 2.9201947262568106,\n",
       " 'period_uncertainty': 0.008789703165573703,\n",
       " 'T0': 1685.1571209770866,\n",
       " 'duration': 0.10336239821273958,\n",
       " 'depth': 0.998015595672346,\n",
       " 'depth_mean': (0.9982816608711141, 0.00039159479385008256),\n",
       " 'depth_mean_even': (0.9979364658343692, 0.0006170975879846659),\n",
       " 'depth_mean_odd': (0.9986268559078593, 0.0004697451818232223),\n",
       " 'transit_depths': array([0.99786296, 0.99760073, 0.99769909, 1.00040557,        nan,\n",
       "        0.99853256, 0.99838465, 0.99796857, 0.99779917]),\n",
       " 'transit_depths_uncertainties': array([0.00046921, 0.00100935, 0.00105731, 0.00076015,        nan,\n",
       "        0.00042204, 0.0006592 , 0.00090777, 0.00206496]),\n",
       " 'rp_rs': 0.04006104092494578,\n",
       " 'snr': 4.884572836314652,\n",
       " 'snr_per_transit': array([ 2.14775898,  2.41130335,  2.31245019, -0.40759971,  0.        ,\n",
       "         1.4748019 ,  1.6234549 ,  2.04161829,  2.2118704 ]),\n",
       " 'snr_pink_per_transit': array([ 2.45249585,  2.75343347,  2.64055443, -0.46543239,  0.        ,\n",
       "         1.6840556 ,  1.85380037,  2.33129529,  2.52570378]),\n",
       " 'odd_even_mismatch': 0.6352253450718238,\n",
       " 'transit_times': [1685.1571209770866,\n",
       "  1688.0773157033434,\n",
       "  1690.9975104296002,\n",
       "  1693.917705155857,\n",
       "  1696.8378998821138,\n",
       "  1699.7580946083706,\n",
       "  1702.6782893346274,\n",
       "  1705.5984840608842,\n",
       "  1708.518678787141],\n",
       " 'per_transit_count': array([5., 5., 5., 5., 0., 5., 5., 5., 5.]),\n",
       " 'transit_count': 9,\n",
       " 'distinct_transit_count': 8,\n",
       " 'empty_transit_count': 1,\n",
       " 'FAP': nan,\n",
       " 'in_transit_count': 40,\n",
       " 'after_transit_count': 39,\n",
       " 'before_transit_count': 40,\n",
       " 'periods': array([ 0.38812367,  0.38832247,  0.38852141, ..., 11.95580417,\n",
       "        11.97501469, 11.99426638]),\n",
       " 'power': array([-0.36419369, -0.56406053, -0.75985266, ..., -0.05445827,\n",
       "        -0.66845027, -0.59537735]),\n",
       " 'power_raw': array([-1.28541022, -1.44247578, -1.59633923, ...,  1.38764452,\n",
       "         0.90513827,  0.9625627 ]),\n",
       " 'SR': array([0.98335052, 0.98293295, 0.9825239 , ..., 0.99045698, 0.98917421,\n",
       "        0.98932687]),\n",
       " 'chi2': array([1232.13741606, 1232.66084946, 1233.17404295, ..., 1223.29692068,\n",
       "        1224.88330078, 1224.69428555]),\n",
       " 'chi2red': array([1.00011154, 1.0005364 , 1.00095296, ..., 0.99293581, 0.99422346,\n",
       "        0.99407004]),\n",
       " 'model_lightcurve_time': array([1683.36828824, 1683.37255753, 1683.37682682, ..., 1710.16662493,\n",
       "        1710.17089422, 1710.17516351]),\n",
       " 'model_lightcurve_model': array([1., 1., 1., ..., 1., 1., 1.]),\n",
       " 'model_folded_phase': array([4.04530744e-04, 1.21424734e-03, 2.02396394e-03, ...,\n",
       "        9.98785098e-01, 9.99594814e-01, 1.00040453e+00]),\n",
       " 'folded_y': array([0.99825395, 1.000004  , 0.99781847, ..., 0.99978652, 0.9965317 ,\n",
       "        1.00171182]),\n",
       " 'folded_dy': array([0.00224395, 0.00224395, 0.00224395, ..., 0.00224395, 0.00224395,\n",
       "        0.00224395]),\n",
       " 'folded_phase': array([3.37400306e-04, 3.96390821e-04, 1.51769125e-03, ...,\n",
       "        9.97994007e-01, 9.99115307e-01, 9.99174298e-01]),\n",
       " 'model_folded_model': array([1., 1., 1., ..., 1., 1., 1.])}"
      ]
     },
     "execution_count": 25,
     "metadata": {},
     "output_type": "execute_result"
    }
   ],
   "source": [
    "all_results[0]"
   ]
  },
  {
   "cell_type": "code",
   "execution_count": null,
   "id": "97190ac5-0b92-4fe7-b9e8-17d3d22ebc29",
   "metadata": {},
   "outputs": [],
   "source": []
  }
 ],
 "metadata": {
  "kernelspec": {
   "display_name": "Python 3 (ipykernel)",
   "language": "python",
   "name": "python3"
  },
  "language_info": {
   "codemirror_mode": {
    "name": "ipython",
    "version": 3
   },
   "file_extension": ".py",
   "mimetype": "text/x-python",
   "name": "python",
   "nbconvert_exporter": "python",
   "pygments_lexer": "ipython3",
   "version": "3.11.7"
  }
 },
 "nbformat": 4,
 "nbformat_minor": 5
}

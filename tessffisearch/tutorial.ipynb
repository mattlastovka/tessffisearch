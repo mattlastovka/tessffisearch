{
 "cells": [
  {
   "cell_type": "code",
   "execution_count": 1,
   "id": "0369ed79-da12-41c2-84f7-23a04f1a951f",
   "metadata": {},
   "outputs": [],
   "source": [
    "import ffisearch_B as ff\n",
    "import numpy as np\n",
    "import os\n",
    "import common as cmn\n",
    "from astropy.table import QTable, vstack\n",
    "import lightkurve as lk\n",
    "import re\n",
    "import pandas as pd"
   ]
  },
  {
   "cell_type": "code",
   "execution_count": 2,
   "id": "efaf5172-6f5f-4093-b92d-b1e05b797a4b",
   "metadata": {},
   "outputs": [],
   "source": [
    "ticid = 165791889\n",
    "sigma_upper = 4.\n",
    "sigma_lower = 12.\n",
    "window_length = 0.8\n",
    "method = 'biweight'\n",
    "num_threads = 1\n",
    "\n",
    "target_list = pd.read_csv(\"targets.csv\")\n",
    "\n",
    "tic_index = np.where(target_list['ID'] == ticid)[0][0]\n",
    "\n",
    "mass = target_list['mass'][tic_index]\n",
    "radius = target_list['rad'][tic_index]  "
   ]
  },
  {
   "cell_type": "code",
   "execution_count": 13,
   "id": "4592cb7d-cfaa-4956-a568-6eea49c8ebe3",
   "metadata": {},
   "outputs": [],
   "source": [
    "light_curve_direc = cmn.light_curve_direc\n",
    "save_direc = cmn.transit_search_direc"
   ]
  },
  {
   "cell_type": "code",
   "execution_count": 4,
   "id": "984a2ccf-1c28-4570-86d5-1eea0bdfc82d",
   "metadata": {},
   "outputs": [],
   "source": [
    "dir_list = np.asarray(os.listdir(light_curve_direc))\n",
    "#get file names for the given TIC ID\n",
    "mask = np.asarray([(str(ticid).zfill(12) in i) for i in dir_list])\n",
    "masked_dir_list = dir_list[mask]\n",
    "#Open the light curve files and \n",
    "light_curves2 = []\n",
    "sectors = []\n",
    "full_2d_list = []\n",
    "for i in masked_dir_list:\n",
    "    #Open the light curve using astropy\n",
    "    read_lc = QTable.read((light_curve_direc + i), format='fits', astropy_native=True)\n",
    "    #Correct the time column to TESS times (BTJD)\n",
    "    read_lc['time'] = lk.LightCurve(read_lc).time.btjd\n",
    "    light_curves2.append(read_lc)\n",
    "    #Determine the sector using the light curve file name\n",
    "    sector = re.findall('sector_00(.*)_tic', i)[0]\n",
    "    sectors.append(int(sector))\n",
    "    full_2d_list.append([read_lc, int(sector)])"
   ]
  },
  {
   "cell_type": "code",
   "execution_count": 5,
   "id": "c761967f-b308-4165-be12-ed81bf8960d5",
   "metadata": {},
   "outputs": [],
   "source": [
    "flux_id = ff.determine_best_flux(light_curves2)"
   ]
  },
  {
   "cell_type": "code",
   "execution_count": 6,
   "id": "975b889a-dfc6-4567-9996-db387fa47b53",
   "metadata": {},
   "outputs": [],
   "source": [
    "sorted_sectors = sorted(sectors)\n",
    "consecutive_sectors = []\n",
    "sec_group = [sorted_sectors[0]]\n",
    "for i in range(1, len(sorted_sectors)):\n",
    "    if sorted_sectors[i] == (sorted_sectors[i-1] + 1):\n",
    "        sec_group.append(sorted_sectors[i])\n",
    "    else:\n",
    "        consecutive_sectors.append(sec_group)\n",
    "        sec_group = [sorted_sectors[i]]\n",
    "consecutive_sectors.append(sec_group)\n",
    "light_curves = []\n",
    "for i in consecutive_sectors:\n",
    "    #stack the light curves using astropy vstack\n",
    "    stack = vstack([full_2d_list[j][0] for j in range(len(full_2d_list)) if full_2d_list[j][1] in i])\n",
    "    #Resort the new light curve so that it is in sequential order\n",
    "    stack.sort('time')\n",
    "    light_curves.append(stack)"
   ]
  },
  {
   "cell_type": "code",
   "execution_count": 7,
   "id": "ba76aef3-82a4-4232-aa87-67b8a7f041fc",
   "metadata": {},
   "outputs": [],
   "source": [
    "all_flat = []\n",
    "all_times = []\n",
    "for i in range(len(light_curves)):\n",
    "    time = light_curves[i]['time'].value\n",
    "    flux = light_curves[i][flux_id].value\n",
    "    times, flat, trend = ff.flatten_lightcurve(time, flux, sigma_upper, sigma_lower, window_length, method)\n",
    "    all_flat.append(flat)\n",
    "    all_times.append(times)"
   ]
  },
  {
   "cell_type": "code",
   "execution_count": 8,
   "id": "5e337635-d72f-4ced-a9f7-7eeae08fd682",
   "metadata": {},
   "outputs": [],
   "source": [
    "all_results = []\n",
    "for i in range(len(light_curves)):\n",
    "    results = ff.search_for_transit(all_times[i], all_flat[i], mass=mass, radius=radius, num_threads=num_threads)\n",
    "    all_results.append(results)"
   ]
  },
  {
   "cell_type": "code",
   "execution_count": 14,
   "id": "05cef07a-aeb2-4f7b-b13c-47a3cc4cd721",
   "metadata": {},
   "outputs": [],
   "source": [
    "if 0.2*len(all_results) > 2:\n",
    "    sec_thresh1 = int(0.2*len(all_results))\n",
    "else:\n",
    "    sec_thresh1 = 2\n",
    "\n",
    "flag, sec_num = ff.flagging_criteria(all_results, sde_thresh = 7, sec_thresh=sec_thresh1, save_direc=save_direc)"
   ]
  },
  {
   "cell_type": "code",
   "execution_count": 15,
   "id": "a64912ac-df65-472b-81d8-4aeff925e093",
   "metadata": {},
   "outputs": [
    {
     "name": "stdout",
     "output_type": "stream",
     "text": [
      "False\n"
     ]
    }
   ],
   "source": [
    "print(flag)"
   ]
  },
  {
   "cell_type": "code",
   "execution_count": null,
   "id": "9119c8a7-dbd7-489d-8de5-39a992a95f56",
   "metadata": {},
   "outputs": [],
   "source": []
  }
 ],
 "metadata": {
  "kernelspec": {
   "display_name": "Python 3 (ipykernel)",
   "language": "python",
   "name": "python3"
  },
  "language_info": {
   "codemirror_mode": {
    "name": "ipython",
    "version": 3
   },
   "file_extension": ".py",
   "mimetype": "text/x-python",
   "name": "python",
   "nbconvert_exporter": "python",
   "pygments_lexer": "ipython3",
   "version": "3.11.7"
  }
 },
 "nbformat": 4,
 "nbformat_minor": 5
}
